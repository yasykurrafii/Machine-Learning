{
  "nbformat": 4,
  "nbformat_minor": 0,
  "metadata": {
    "colab": {
      "name": "LinearClassifier.ipynb",
      "provenance": [],
      "collapsed_sections": [],
      "authorship_tag": "ABX9TyNTjJeAdZc9v17ryLWWKOeR",
      "include_colab_link": true
    },
    "kernelspec": {
      "name": "python3",
      "display_name": "Python 3"
    }
  },
  "cells": [
    {
      "cell_type": "markdown",
      "metadata": {
        "id": "view-in-github",
        "colab_type": "text"
      },
      "source": [
        "<a href=\"https://colab.research.google.com/github/yasykurrafii/Machine-Learning/blob/main/LinearClassifier.ipynb\" target=\"_parent\"><img src=\"https://colab.research.google.com/assets/colab-badge.svg\" alt=\"Open In Colab\"/></a>"
      ]
    },
    {
      "cell_type": "code",
      "metadata": {
        "id": "3dTeDB7lB470"
      },
      "source": [
        "%tensorflow_version 2.x"
      ],
      "execution_count": null,
      "outputs": []
    },
    {
      "cell_type": "markdown",
      "metadata": {
        "id": "mPpBjiq3mxcG"
      },
      "source": [
        "<h1> Importing All Module That we need </h1>\n",
        "\n",
        "the important module that we need are :\n",
        "* Numpy\n",
        "* Pandas\n",
        "* Matplotlib\n",
        "* Tensorflow"
      ]
    },
    {
      "cell_type": "code",
      "metadata": {
        "id": "LeYqNPPyjahO"
      },
      "source": [
        "import numpy as np\n",
        "import pandas as pd \n",
        "import matplotlib.pyplot as plt\n",
        "from IPython.display import clear_output\n",
        "from six.moves import urllib\n",
        "\n",
        "import tensorflow.compat.v2.feature_column as fc\n",
        "\n",
        "import tensorflow as tf"
      ],
      "execution_count": null,
      "outputs": []
    },
    {
      "cell_type": "markdown",
      "metadata": {
        "id": "EbnxrHHmnIAp"
      },
      "source": [
        "# Data\n",
        "\n",
        "This section will take the data with format .csv from url with module Pandas\n",
        "\n",
        "Pandas is very useful module to take data, and manipulate it. It will helpfull to cleaning the data."
      ]
    },
    {
      "cell_type": "code",
      "metadata": {
        "id": "ffmi78fskH1T"
      },
      "source": [
        "df_train = pd.read_csv('https://storage.googleapis.com/tf-datasets/titanic/train.csv') # Training set\n",
        "df_eval = pd.read_csv('https://storage.googleapis.com/tf-datasets/titanic/eval.csv') # Evaluation set\n",
        "\n",
        "y_train = df_train.pop('survived') # Target Set for Training set\n",
        "y_eval = df_eval.pop('survived') # Target Set for evalutation set"
      ],
      "execution_count": null,
      "outputs": []
    },
    {
      "cell_type": "markdown",
      "metadata": {
        "id": "sRgJ2_nun-qN"
      },
      "source": [
        "Training set and Evalutaion set are seperated that will be usefull to avoid overfitting when we train our model Machine Learning. Other trick to seperate the data into training set and test set is using <i>train_test_split</i> from module scikit-learn (<i>sklearn.model_selection</i>)"
      ]
    },
    {
      "cell_type": "markdown",
      "metadata": {
        "id": "tJqwwgIppBjy"
      },
      "source": [
        "## Look Insight of data with Pandas"
      ]
    },
    {
      "cell_type": "markdown",
      "metadata": {
        "id": "q-O6ZGdipGUE"
      },
      "source": [
        "With Pandas we can look the data and find the insight like mean, std, etc."
      ]
    },
    {
      "cell_type": "code",
      "metadata": {
        "colab": {
          "base_uri": "https://localhost:8080/",
          "height": 195
        },
        "id": "pXTu9-JspFkk",
        "outputId": "5f4d7d60-37fa-413c-cf0b-f247efed6e7a"
      },
      "source": [
        "df_train.head()"
      ],
      "execution_count": null,
      "outputs": [
        {
          "output_type": "execute_result",
          "data": {
            "text/html": [
              "<div>\n",
              "<style scoped>\n",
              "    .dataframe tbody tr th:only-of-type {\n",
              "        vertical-align: middle;\n",
              "    }\n",
              "\n",
              "    .dataframe tbody tr th {\n",
              "        vertical-align: top;\n",
              "    }\n",
              "\n",
              "    .dataframe thead th {\n",
              "        text-align: right;\n",
              "    }\n",
              "</style>\n",
              "<table border=\"1\" class=\"dataframe\">\n",
              "  <thead>\n",
              "    <tr style=\"text-align: right;\">\n",
              "      <th></th>\n",
              "      <th>sex</th>\n",
              "      <th>age</th>\n",
              "      <th>n_siblings_spouses</th>\n",
              "      <th>parch</th>\n",
              "      <th>fare</th>\n",
              "      <th>class</th>\n",
              "      <th>deck</th>\n",
              "      <th>embark_town</th>\n",
              "      <th>alone</th>\n",
              "    </tr>\n",
              "  </thead>\n",
              "  <tbody>\n",
              "    <tr>\n",
              "      <th>0</th>\n",
              "      <td>male</td>\n",
              "      <td>22.0</td>\n",
              "      <td>1</td>\n",
              "      <td>0</td>\n",
              "      <td>7.2500</td>\n",
              "      <td>Third</td>\n",
              "      <td>unknown</td>\n",
              "      <td>Southampton</td>\n",
              "      <td>n</td>\n",
              "    </tr>\n",
              "    <tr>\n",
              "      <th>1</th>\n",
              "      <td>female</td>\n",
              "      <td>38.0</td>\n",
              "      <td>1</td>\n",
              "      <td>0</td>\n",
              "      <td>71.2833</td>\n",
              "      <td>First</td>\n",
              "      <td>C</td>\n",
              "      <td>Cherbourg</td>\n",
              "      <td>n</td>\n",
              "    </tr>\n",
              "    <tr>\n",
              "      <th>2</th>\n",
              "      <td>female</td>\n",
              "      <td>26.0</td>\n",
              "      <td>0</td>\n",
              "      <td>0</td>\n",
              "      <td>7.9250</td>\n",
              "      <td>Third</td>\n",
              "      <td>unknown</td>\n",
              "      <td>Southampton</td>\n",
              "      <td>y</td>\n",
              "    </tr>\n",
              "    <tr>\n",
              "      <th>3</th>\n",
              "      <td>female</td>\n",
              "      <td>35.0</td>\n",
              "      <td>1</td>\n",
              "      <td>0</td>\n",
              "      <td>53.1000</td>\n",
              "      <td>First</td>\n",
              "      <td>C</td>\n",
              "      <td>Southampton</td>\n",
              "      <td>n</td>\n",
              "    </tr>\n",
              "    <tr>\n",
              "      <th>4</th>\n",
              "      <td>male</td>\n",
              "      <td>28.0</td>\n",
              "      <td>0</td>\n",
              "      <td>0</td>\n",
              "      <td>8.4583</td>\n",
              "      <td>Third</td>\n",
              "      <td>unknown</td>\n",
              "      <td>Queenstown</td>\n",
              "      <td>y</td>\n",
              "    </tr>\n",
              "  </tbody>\n",
              "</table>\n",
              "</div>"
            ],
            "text/plain": [
              "      sex   age  n_siblings_spouses  parch  ...  class     deck  embark_town alone\n",
              "0    male  22.0                   1      0  ...  Third  unknown  Southampton     n\n",
              "1  female  38.0                   1      0  ...  First        C    Cherbourg     n\n",
              "2  female  26.0                   0      0  ...  Third  unknown  Southampton     y\n",
              "3  female  35.0                   1      0  ...  First        C  Southampton     n\n",
              "4    male  28.0                   0      0  ...  Third  unknown   Queenstown     y\n",
              "\n",
              "[5 rows x 9 columns]"
            ]
          },
          "metadata": {
            "tags": []
          },
          "execution_count": 5
        }
      ]
    },
    {
      "cell_type": "markdown",
      "metadata": {
        "id": "2-ITvMWtpm6H"
      },
      "source": [
        "<i>DataFrame.head()</i> is using to look the 5 first row of the data. We can look at the feature and find the path of the data."
      ]
    },
    {
      "cell_type": "code",
      "metadata": {
        "colab": {
          "base_uri": "https://localhost:8080/",
          "height": 284
        },
        "id": "MmboC3cUpZNZ",
        "outputId": "b0296059-61e8-49ad-c500-b05fc8ecc138"
      },
      "source": [
        "df_train.describe()"
      ],
      "execution_count": null,
      "outputs": [
        {
          "output_type": "execute_result",
          "data": {
            "text/html": [
              "<div>\n",
              "<style scoped>\n",
              "    .dataframe tbody tr th:only-of-type {\n",
              "        vertical-align: middle;\n",
              "    }\n",
              "\n",
              "    .dataframe tbody tr th {\n",
              "        vertical-align: top;\n",
              "    }\n",
              "\n",
              "    .dataframe thead th {\n",
              "        text-align: right;\n",
              "    }\n",
              "</style>\n",
              "<table border=\"1\" class=\"dataframe\">\n",
              "  <thead>\n",
              "    <tr style=\"text-align: right;\">\n",
              "      <th></th>\n",
              "      <th>age</th>\n",
              "      <th>n_siblings_spouses</th>\n",
              "      <th>parch</th>\n",
              "      <th>fare</th>\n",
              "    </tr>\n",
              "  </thead>\n",
              "  <tbody>\n",
              "    <tr>\n",
              "      <th>count</th>\n",
              "      <td>627.000000</td>\n",
              "      <td>627.000000</td>\n",
              "      <td>627.000000</td>\n",
              "      <td>627.000000</td>\n",
              "    </tr>\n",
              "    <tr>\n",
              "      <th>mean</th>\n",
              "      <td>29.631308</td>\n",
              "      <td>0.545455</td>\n",
              "      <td>0.379585</td>\n",
              "      <td>34.385399</td>\n",
              "    </tr>\n",
              "    <tr>\n",
              "      <th>std</th>\n",
              "      <td>12.511818</td>\n",
              "      <td>1.151090</td>\n",
              "      <td>0.792999</td>\n",
              "      <td>54.597730</td>\n",
              "    </tr>\n",
              "    <tr>\n",
              "      <th>min</th>\n",
              "      <td>0.750000</td>\n",
              "      <td>0.000000</td>\n",
              "      <td>0.000000</td>\n",
              "      <td>0.000000</td>\n",
              "    </tr>\n",
              "    <tr>\n",
              "      <th>25%</th>\n",
              "      <td>23.000000</td>\n",
              "      <td>0.000000</td>\n",
              "      <td>0.000000</td>\n",
              "      <td>7.895800</td>\n",
              "    </tr>\n",
              "    <tr>\n",
              "      <th>50%</th>\n",
              "      <td>28.000000</td>\n",
              "      <td>0.000000</td>\n",
              "      <td>0.000000</td>\n",
              "      <td>15.045800</td>\n",
              "    </tr>\n",
              "    <tr>\n",
              "      <th>75%</th>\n",
              "      <td>35.000000</td>\n",
              "      <td>1.000000</td>\n",
              "      <td>0.000000</td>\n",
              "      <td>31.387500</td>\n",
              "    </tr>\n",
              "    <tr>\n",
              "      <th>max</th>\n",
              "      <td>80.000000</td>\n",
              "      <td>8.000000</td>\n",
              "      <td>5.000000</td>\n",
              "      <td>512.329200</td>\n",
              "    </tr>\n",
              "  </tbody>\n",
              "</table>\n",
              "</div>"
            ],
            "text/plain": [
              "              age  n_siblings_spouses       parch        fare\n",
              "count  627.000000          627.000000  627.000000  627.000000\n",
              "mean    29.631308            0.545455    0.379585   34.385399\n",
              "std     12.511818            1.151090    0.792999   54.597730\n",
              "min      0.750000            0.000000    0.000000    0.000000\n",
              "25%     23.000000            0.000000    0.000000    7.895800\n",
              "50%     28.000000            0.000000    0.000000   15.045800\n",
              "75%     35.000000            1.000000    0.000000   31.387500\n",
              "max     80.000000            8.000000    5.000000  512.329200"
            ]
          },
          "metadata": {
            "tags": []
          },
          "execution_count": 6
        }
      ]
    },
    {
      "cell_type": "markdown",
      "metadata": {
        "id": "j_OckmAsqS9N"
      },
      "source": [
        "<i>DataFrame.describe()</i> will give you the insight of the data. It is very usefull to look the mean, std and so on."
      ]
    },
    {
      "cell_type": "code",
      "metadata": {
        "colab": {
          "base_uri": "https://localhost:8080/"
        },
        "id": "2eHSHSqPqk8G",
        "outputId": "8c279b10-b6dc-41e9-883e-6547f12b240a"
      },
      "source": [
        "df_train.shape"
      ],
      "execution_count": null,
      "outputs": [
        {
          "output_type": "execute_result",
          "data": {
            "text/plain": [
              "(627, 9)"
            ]
          },
          "metadata": {
            "tags": []
          },
          "execution_count": 7
        }
      ]
    },
    {
      "cell_type": "markdown",
      "metadata": {
        "id": "8XpPn5sVqtNF"
      },
      "source": [
        "With <i>DataFrame.shape</i> we know this dataset has 627 rows with 9 columns"
      ]
    },
    {
      "cell_type": "code",
      "metadata": {
        "colab": {
          "base_uri": "https://localhost:8080/",
          "height": 282
        },
        "id": "gbfvM53KqrwC",
        "outputId": "84d99dae-f7e6-4ac2-92c1-3fdd590649b4"
      },
      "source": [
        "df_train.age.hist(bins = 20)"
      ],
      "execution_count": null,
      "outputs": [
        {
          "output_type": "execute_result",
          "data": {
            "text/plain": [
              "<matplotlib.axes._subplots.AxesSubplot at 0x7fd187e25c88>"
            ]
          },
          "metadata": {
            "tags": []
          },
          "execution_count": 8
        },
        {
          "output_type": "display_data",
          "data": {
            "image/png": "[encoded data removed]",
            "text/plain": [
              "<Figure size 432x288 with 1 Axes>"
            ]
          },
          "metadata": {
            "tags": [],
            "needs_background": "light"
          }
        }
      ]
    },
    {
      "cell_type": "markdown",
      "metadata": {
        "id": "RDuKI8K_rQnI"
      },
      "source": [
        "Nice, Pandas give us the graph of the data from <i>age</i> column in <i>df_train</i> dataset with <i>Histogram Plot with 20 bins</i>"
      ]
    },
    {
      "cell_type": "code",
      "metadata": {
        "colab": {
          "base_uri": "https://localhost:8080/",
          "height": 282
        },
        "id": "KSpFeGltrPyI",
        "outputId": "142e5cca-6a46-42d0-ab64-8023e35c0c83"
      },
      "source": [
        "df_train.sex.value_counts().plot(kind = 'barh')"
      ],
      "execution_count": null,
      "outputs": [
        {
          "output_type": "execute_result",
          "data": {
            "text/plain": [
              "<matplotlib.axes._subplots.AxesSubplot at 0x7fd1876ac160>"
            ]
          },
          "metadata": {
            "tags": []
          },
          "execution_count": 9
        },
        {
          "output_type": "display_data",
          "data": {
            "image/png": "[encoded data removed]",
            "text/plain": [
              "<Figure size 432x288 with 1 Axes>"
            ]
          },
          "metadata": {
            "tags": [],
            "needs_background": "light"
          }
        }
      ]
    },
    {
      "cell_type": "markdown",
      "metadata": {
        "id": "_A-gJeDZsXWW"
      },
      "source": [
        "Interesting, with <i>.value_counts()</i> we count the total data for each unique value, in this example <i>.value_counts()</i> counts the total data from sex female and male. We can use <i>.plot()</i> with kind <strong>horizontal bar</strong>"
      ]
    },
    {
      "cell_type": "code",
      "metadata": {
        "colab": {
          "base_uri": "https://localhost:8080/",
          "height": 282
        },
        "id": "kg7zy79BsWI0",
        "outputId": "b305c8e3-e48f-4685-9cd9-b90a57010720"
      },
      "source": [
        "df_train['class'].value_counts().plot(kind = 'barh')"
      ],
      "execution_count": null,
      "outputs": [
        {
          "output_type": "execute_result",
          "data": {
            "text/plain": [
              "<matplotlib.axes._subplots.AxesSubplot at 0x7fd1871f10f0>"
            ]
          },
          "metadata": {
            "tags": []
          },
          "execution_count": 10
        },
        {
          "output_type": "display_data",
          "data": {
            "image/png": "[encoded data removed]",
            "text/plain": [
              "<Figure size 432x288 with 1 Axes>"
            ]
          },
          "metadata": {
            "tags": [],
            "needs_background": "light"
          }
        }
      ]
    },
    {
      "cell_type": "markdown",
      "metadata": {
        "id": "7sO51VUetPjB"
      },
      "source": [
        "There are two ways to choose the feature from the dataset. First, with <i>dataset.feature</i> and Second, <i>dataset['feature']</i> ."
      ]
    },
    {
      "cell_type": "code",
      "metadata": {
        "colab": {
          "base_uri": "https://localhost:8080/",
          "height": 296
        },
        "id": "fkAfelQ7tOxT",
        "outputId": "a0171e60-dcda-4333-c2b1-d088dd3204bd"
      },
      "source": [
        "pd.concat([df_train, y_train], axis = 1).groupby('sex').survived.mean().plot(kind = 'barh').set_xlabel('% Survive')"
      ],
      "execution_count": null,
      "outputs": [
        {
          "output_type": "execute_result",
          "data": {
            "text/plain": [
              "Text(0.5, 0, '% Survive')"
            ]
          },
          "metadata": {
            "tags": []
          },
          "execution_count": 11
        },
        {
          "output_type": "display_data",
          "data": {
            "image/png": "[encoded data removed]",
            "text/plain": [
              "<Figure size 432x288 with 1 Axes>"
            ]
          },
          "metadata": {
            "tags": [],
            "needs_background": "light"
          }
        }
      ]
    },
    {
      "cell_type": "markdown",
      "metadata": {
        "id": "xfNeSeceuWw8"
      },
      "source": [
        "We Concat 2 dataframe, <i>df_train and y_train</i>, by grouping with <strong>sex</strong> and take the <i>mean</i> of <i>survived</i> by every <strong>sex</strong>."
      ]
    },
    {
      "cell_type": "markdown",
      "metadata": {
        "id": "Fsz018y1vAss"
      },
      "source": [
        "Now, From this four graphs there are many information that we got:\n",
        "\n",
        "1. Most of the Passengers are 20 to 30 years old\n",
        "2. Most of the Passengers are male\n",
        "3. Most of the Passengers are in the Third class\n",
        "4. Female has more percentage to survive than male"
      ]
    },
    {
      "cell_type": "markdown",
      "metadata": {
        "id": "KXV4I2BfPXIE"
      },
      "source": [
        "# Train set and Test set\n",
        "\n",
        "when we load the data we load 2 dataset, train set and test set. Why do we should seperated the data into train set and test set? We use it to avoid the Overfitting and underfitting. "
      ]
    },
    {
      "cell_type": "markdown",
      "metadata": {
        "id": "cLjXyVQvP31J"
      },
      "source": [
        "## Overfitting vs Underfitting\n",
        "\n",
        "**Overfitting** is the condition when your model is good in train set but poor in test set, it is because your model is too complex\n",
        "\n",
        "**Underfitting** is the condition when your model is too simple so it will not give you the good prediction."
      ]
    },
    {
      "cell_type": "markdown",
      "metadata": {
        "id": "gs663qCbS_cg"
      },
      "source": [
        "**Overfitting Image**\n",
        "\n",
        "![Overfitting.png](data:image/png;base64,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)\n"
      ]
    },
    {
      "cell_type": "markdown",
      "metadata": {
        "id": "cV7r9az-TW7U"
      },
      "source": [
        "**Underfitting Image**\n",
        "\n",
        "![Underfitting.png](data:image/png;base64,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)"
      ]
    },
    {
      "cell_type": "markdown",
      "metadata": {
        "id": "ui9BTo8WTipj"
      },
      "source": [
        "## Feature Column\n",
        "\n",
        "Inside the dataset we have two types of features, **Numerical** and **Categorical**.\n",
        "\n",
        "**Numerical** is when our features are fully of the number(ex Age, Fare) \n",
        "\n",
        "**Categorical** is when our features are fully of category (ex Sex, Class)"
      ]
    },
    {
      "cell_type": "code",
      "metadata": {
        "id": "ci5Ur-10uHd_",
        "colab": {
          "base_uri": "https://localhost:8080/"
        },
        "outputId": "938d543e-8ea4-437e-8aae-350d667d3b9f"
      },
      "source": [
        "# Checking the Categorical and Numerical\n",
        "categorical = ['sex', 'class', 'embark_town', 'alone', 'parch', 'n_siblings_spouses', 'deck']\n",
        "numerical = ['age', 'fare']\n",
        "\n",
        "feature_column = []\n",
        "\n",
        "for category in categorical:\n",
        "  vocabulary = df_train[category].unique()\n",
        "  feature_column.append(tf.feature_column.categorical_column_with_vocabulary_list(category, vocabulary))\n",
        "\n",
        "for num in numerical:\n",
        "  feature_column.append(tf.feature_column.numeric_column(num, dtype = tf.float32))\n",
        "\n",
        "print(feature_column)"
      ],
      "execution_count": null,
      "outputs": [
        {
          "output_type": "stream",
          "text": [
            "[VocabularyListCategoricalColumn(key='sex', vocabulary_list=('male', 'female'), dtype=tf.string, default_value=-1, num_oov_buckets=0), VocabularyListCategoricalColumn(key='class', vocabulary_list=('Third', 'First', 'Second'), dtype=tf.string, default_value=-1, num_oov_buckets=0), VocabularyListCategoricalColumn(key='embark_town', vocabulary_list=('Southampton', 'Cherbourg', 'Queenstown', 'unknown'), dtype=tf.string, default_value=-1, num_oov_buckets=0), VocabularyListCategoricalColumn(key='alone', vocabulary_list=('n', 'y'), dtype=tf.string, default_value=-1, num_oov_buckets=0), VocabularyListCategoricalColumn(key='parch', vocabulary_list=(0, 1, 2, 5, 3, 4), dtype=tf.int64, default_value=-1, num_oov_buckets=0), VocabularyListCategoricalColumn(key='n_siblings_spouses', vocabulary_list=(1, 0, 3, 4, 2, 5, 8), dtype=tf.int64, default_value=-1, num_oov_buckets=0), VocabularyListCategoricalColumn(key='deck', vocabulary_list=('unknown', 'C', 'G', 'A', 'B', 'D', 'F', 'E'), dtype=tf.string, default_value=-1, num_oov_buckets=0), NumericColumn(key='age', shape=(1,), default_value=None, dtype=tf.float32, normalizer_fn=None), NumericColumn(key='fare', shape=(1,), default_value=None, dtype=tf.float32, normalizer_fn=None)]\n"
          ],
          "name": "stdout"
        }
      ]
    },
    {
      "cell_type": "markdown",
      "metadata": {
        "id": "Q3rX1-W7eERJ"
      },
      "source": [
        "# Training Proccess"
      ]
    },
    {
      "cell_type": "markdown",
      "metadata": {
        "id": "Du7ntY6-eILo"
      },
      "source": [
        "## Input Function"
      ]
    },
    {
      "cell_type": "code",
      "metadata": {
        "colab": {
          "base_uri": "https://localhost:8080/"
        },
        "id": "faOoXKkOViHK",
        "outputId": "81d7cd28-3d70-4460-a498-5ebc827c9be1"
      },
      "source": [
        "def make_input_fn(data_df, label_df, num_epochs=10, shuffle=True, batch_size=32):\n",
        "  def input_function():  # inner function, this will be returned\n",
        "    ds = tf.data.Dataset.from_tensor_slices((dict(data_df), label_df))  # create tf.data.Dataset object with data and its label\n",
        "    if shuffle:\n",
        "      ds = ds.shuffle(1000)  # randomize order of data\n",
        "    ds = ds.batch(batch_size).repeat(num_epochs)  # split dataset into batches of 32 and repeat process for number of epochs\n",
        "    return ds  # return a batch of the dataset\n",
        "  return input_function  # return a function object for use\n",
        "\n",
        "train_input_fn = make_input_fn(df_train, y_train)  # here we will call the input_function that was returned to us to get a dataset object we can feed to the model\n",
        "eval_input_fn = make_input_fn(df_eval, y_eval, num_epochs=1, shuffle=False)"
      ],
      "execution_count": null,
      "outputs": [
        {
          "output_type": "execute_result",
          "data": {
            "text/plain": [
              "<function __main__.make_input_fn.<locals>.input_function>"
            ]
          },
          "metadata": {
            "tags": []
          },
          "execution_count": 18
        }
      ]
    },
    {
      "cell_type": "markdown",
      "metadata": {
        "id": "CJBpplrgfD8Y"
      },
      "source": [
        "## Make an Linear Classification"
      ]
    },
    {
      "cell_type": "code",
      "metadata": {
        "colab": {
          "base_uri": "https://localhost:8080/"
        },
        "id": "X5rlJU5ceUkU",
        "outputId": "5cd4310b-6cfc-4ed3-b921-2ea761347317"
      },
      "source": [
        "estimator = tf.estimator.LinearClassifier(feature_columns=feature_column)"
      ],
      "execution_count": null,
      "outputs": [
        {
          "output_type": "stream",
          "text": [
            "INFO:tensorflow:Using default config.\n",
            "WARNING:tensorflow:Using temporary folder as model directory: /tmp/tmpun09hw5u\n",
            "INFO:tensorflow:Using config: {'_model_dir': '/tmp/tmpun09hw5u', '_tf_random_seed': None, '_save_summary_steps': 100, '_save_checkpoints_steps': None, '_save_checkpoints_secs': 600, '_session_config': allow_soft_placement: true\n",
            "graph_options {\n",
            "  rewrite_options {\n",
            "    meta_optimizer_iterations: ONE\n",
            "  }\n",
            "}\n",
            ", '_keep_checkpoint_max': 5, '_keep_checkpoint_every_n_hours': 10000, '_log_step_count_steps': 100, '_train_distribute': None, '_device_fn': None, '_protocol': None, '_eval_distribute': None, '_experimental_distribute': None, '_experimental_max_worker_delay_secs': None, '_session_creation_timeout_secs': 7200, '_service': None, '_cluster_spec': ClusterSpec({}), '_task_type': 'worker', '_task_id': 0, '_global_id_in_cluster': 0, '_master': '', '_evaluation_master': '', '_is_chief': True, '_num_ps_replicas': 0, '_num_worker_replicas': 1}\n"
          ],
          "name": "stdout"
        }
      ]
    },
    {
      "cell_type": "markdown",
      "metadata": {
        "id": "ZzLYGX_7fbHB"
      },
      "source": [
        "## Training Model using training set"
      ]
    },
    {
      "cell_type": "code",
      "metadata": {
        "colab": {
          "base_uri": "https://localhost:8080/"
        },
        "id": "-o4gCPSsfMe8",
        "outputId": "55770605-5959-47f0-8f46-e47c6361db0a"
      },
      "source": [
        "estimator.train(train_input_fn)\n",
        "result = estimator.evaluate(eval_input_fn)\n",
        "\n",
        "clear_output()\n",
        "print(result['accuracy'])"
      ],
      "execution_count": null,
      "outputs": [
        {
          "output_type": "stream",
          "text": [
            "0.75757575\n"
          ],
          "name": "stdout"
        }
      ]
    },
    {
      "cell_type": "code",
      "metadata": {
        "colab": {
          "base_uri": "https://localhost:8080/",
          "height": 519
        },
        "id": "NS90Wp3ffkgD",
        "outputId": "4ffbaff2-8372-4920-c329-fd5833cf738b"
      },
      "source": [
        "pred_dicts = list(estimator.predict(eval_input_fn))\n",
        "probs = pd.Series([pred['probabilities'][1] for pred in pred_dicts])\n",
        "\n",
        "probs.plot(kind='hist', bins=20, title='predicted probabilities')"
      ],
      "execution_count": null,
      "outputs": [
        {
          "output_type": "stream",
          "text": [
            "INFO:tensorflow:Calling model_fn.\n",
            "WARNING:tensorflow:Layer linear/linear_model is casting an input tensor from dtype float64 to the layer's dtype of float32, which is new behavior in TensorFlow 2.  The layer has dtype float32 because its dtype defaults to floatx.\n",
            "\n",
            "If you intended to run this layer in float32, you can safely ignore this warning. If in doubt, this warning is likely only an issue if you are porting a TensorFlow 1.X model to TensorFlow 2.\n",
            "\n",
            "To change all layers to have dtype float64 by default, call `tf.keras.backend.set_floatx('float64')`. To change just this layer, pass dtype='float64' to the layer constructor. If you are the author of this layer, you can disable autocasting by passing autocast=False to the base Layer constructor.\n",
            "\n",
            "INFO:tensorflow:Done calling model_fn.\n",
            "INFO:tensorflow:Graph was finalized.\n",
            "INFO:tensorflow:Restoring parameters from /tmp/tmpun09hw5u/model.ckpt-400\n",
            "INFO:tensorflow:Running local_init_op.\n",
            "INFO:tensorflow:Done running local_init_op.\n"
          ],
          "name": "stdout"
        },
        {
          "output_type": "execute_result",
          "data": {
            "text/plain": [
              "<matplotlib.axes._subplots.AxesSubplot at 0x7fd17f105fd0>"
            ]
          },
          "metadata": {
            "tags": []
          },
          "execution_count": 25
        },
        {
          "output_type": "display_data",
          "data": {
            "image/png": "[encoded data removed]",
            "text/plain": [
              "<Figure size 432x288 with 1 Axes>"
            ]
          },
          "metadata": {
            "tags": [],
            "needs_background": "light"
          }
        }
      ]
    }
  ]
}